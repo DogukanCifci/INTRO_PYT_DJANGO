{
 "cells": [
  {
   "cell_type": "code",
   "execution_count": null,
   "metadata": {},
   "outputs": [],
   "source": [
    "import numpy as np\n",
    "\n",
    "a = np.array([0, 1, 2, 3, 4, 5])\n",
    "\n",
    "a[0]        #Yine liste mantigiyla isler. Hata veriyor ama normalde calismasi gerekiyor\n",
    "\n",
    "#a[0] = 0   a[1] = 1 ....\n",
    "\n",
    "# type(a) : numpy.ndarray\n",
    "# a.dtype:dtype('int64')\n",
    "\n",
    "#Eger liste icindeki sayilar float olsaydi ;\n",
    "# a.dtype:dtype('float64') ---> olurdu."
   ]
  },
  {
   "cell_type": "code",
   "execution_count": null,
   "metadata": {},
   "outputs": [],
   "source": [
    "#ELEMAN DEGISTIRME\n",
    "import numpy as np\n",
    "my_list = np.array([1,2,3,4,5,6,7])\n",
    "\n",
    "my_list[0] = 100 # YAPARSAM ; listede 1 100 olarak degisir\n",
    "\n",
    "#New List\n",
    "\n",
    "my_list = np.array([100,2,3,4,5,6,7])  #1 kalkmis olur"
   ]
  },
  {
   "cell_type": "code",
   "execution_count": null,
   "metadata": {},
   "outputs": [],
   "source": [
    "#BUNU DILIMLEME ILE DE YAPABILIRIZ.\n",
    "my_list[2,5] = 300, 450, 550\n",
    "\n",
    "#NEW LIST BU SEKILDE OLUR\n",
    "my_list = np.array([100, 2, 300, 450, 550,6, 7]) "
   ]
  },
  {
   "cell_type": "code",
   "execution_count": null,
   "metadata": {},
   "outputs": [],
   "source": [
    "#NUMPY ILE IKI LISTEYI TOPLAMA-CIKARMA ----- VECTOR GIBI\n",
    "\n",
    "u = np.array([1,0])\n",
    "v= np.array([0,1])\n",
    "\n",
    "z = u + v\n",
    "\n",
    "z:array([1,1]) ##olur\n",
    "\n",
    "\n",
    "#FAKAT BUNU NORMAL LISTE ILE YAPMAK ISTESEYDIK ZIP METDOU KULLANMAK ZORUNDAYDIK\n",
    "u = [1,0]\n",
    "v = [0,1]\n",
    "\n",
    "for n, m in zip(u,v) :\n",
    "    z.append(n+m)\n"
   ]
  },
  {
   "cell_type": "code",
   "execution_count": 12,
   "metadata": {},
   "outputs": [
    {
     "name": "stdout",
     "output_type": "stream",
     "text": [
      "[(1, 2), (0, 1)]\n",
      "1. liste 1. eleman :  1\n",
      "2. liste 1. eleman :  2\n",
      "\n",
      "1. liste 1. eleman :  0\n",
      "2. liste 1. eleman :  1\n",
      "\n",
      "[3, 1]\n"
     ]
    }
   ],
   "source": [
    "u = [1,0]\n",
    "v = [2,1]\n",
    "z = []\n",
    "t = zip(u,v)\n",
    "print(list(t))\n",
    "\n",
    "for m, n in zip(u,v) :\n",
    "    print('1. liste 1. eleman : ',m)\n",
    "    print('2. liste 1. eleman : ', n)\n",
    "    print()\n",
    "    z.append(n+m)\n",
    "\n",
    "print(z)\n"
   ]
  },
  {
   "cell_type": "code",
   "execution_count": null,
   "metadata": {},
   "outputs": [],
   "source": [
    "#NUMPY ILE CARPMA-BÖLME ISLEMI\n",
    "import numpy as np\n",
    "my_list = np.array([3,4])\n",
    "\n",
    "z = my_list * 2\n",
    "\n",
    "z:array([2,4])\n",
    "\n",
    "#EGER FOR DÖNGÜSÜYLE YAPMAK ISTERSEK\n",
    "\n",
    "y = [3,4]\n",
    "\n",
    "z = []\n",
    "for n in y :\n",
    "    z.append(n * 2)\n",
    "\n",
    "print(z)\n"
   ]
  },
  {
   "cell_type": "code",
   "execution_count": 15,
   "metadata": {},
   "outputs": [
    {
     "name": "stdout",
     "output_type": "stream",
     "text": [
      "[8, 12]\n"
     ]
    }
   ],
   "source": [
    "y = [4,6]\n",
    "z = []\n",
    "for n in y :\n",
    "    z.append(n * 2)\n",
    "\n",
    "print(z)"
   ]
  },
  {
   "cell_type": "code",
   "execution_count": null,
   "metadata": {},
   "outputs": [],
   "source": [
    "#NUMPY ILE IKI VECTOR-LISTE CARPMA\n",
    "\n",
    "import numpy as np \n",
    "\n",
    "u = np.arry([4,5])\n",
    "y = np.array([5,6])\n",
    "\n",
    "z = u * y\n",
    "\n",
    "z:array([20,30])\n",
    "\n",
    "#AYNI SEYI NUMPYSIZ FOR ILE YAPARSAK ;\n",
    "\n",
    "u = [4,7]\n",
    "y = [5,6]\n",
    "\n",
    "z= []\n",
    "\n",
    "for i, j in zip(u,y) :\n",
    "    z.append(i*j)\n",
    "\n",
    "print(z)"
   ]
  },
  {
   "cell_type": "code",
   "execution_count": 17,
   "metadata": {},
   "outputs": [
    {
     "name": "stdout",
     "output_type": "stream",
     "text": [
      "[20, 48]\n"
     ]
    }
   ],
   "source": [
    "u = [4,8]\n",
    "y = [5,6]\n",
    "\n",
    "z= []\n",
    "\n",
    "for i, j in zip(u,y) :\n",
    "    z.append(i*j)\n",
    "\n",
    "print(z)"
   ]
  }
 ],
 "metadata": {
  "interpreter": {
   "hash": "98590ff4fe04c8543246b2a01debd3de3c5ca9b666f43f1fa87d5110c692004c"
  },
  "kernelspec": {
   "display_name": "Python 3.10.1 64-bit",
   "language": "python",
   "name": "python3"
  },
  "language_info": {
   "codemirror_mode": {
    "name": "ipython",
    "version": 3
   },
   "file_extension": ".py",
   "mimetype": "text/x-python",
   "name": "python",
   "nbconvert_exporter": "python",
   "pygments_lexer": "ipython3",
   "version": "3.10.4"
  },
  "orig_nbformat": 4
 },
 "nbformat": 4,
 "nbformat_minor": 2
}

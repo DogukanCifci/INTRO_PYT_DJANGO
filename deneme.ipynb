{
 "cells": [
  {
   "cell_type": "code",
   "execution_count": 39,
   "metadata": {},
   "outputs": [
    {
     "name": "stdout",
     "output_type": "stream",
     "text": [
      "True (Uses both hand fingers) \n"
     ]
    }
   ],
   "source": [
    "word = input('Enter a word to check if that is a comfort word')\n",
    "counter_left = 0\n",
    "counter_right = 0\n",
    "for i in word :\n",
    "    if i in 'qazwsxedcrfvtgb^12345' :\n",
    "        counter_left += 1 \n",
    "    elif i in 'yhnujmikolp67890ß´äö-.,#+*\\'' :\n",
    "        counter_right += 1\n",
    "\n",
    "if counter_left > 0 and counter_right > 0 :\n",
    "    print(True, '(Uses both hand fingers) ' )\n",
    "elif counter_left > 0 and counter_right == 0 :\n",
    "    print(False , '(Uses only left-hand fingers)')\n",
    "elif counter_right > 0 and counter_left == 0 :\n",
    "    print(False, '(uses only right-hand fingers)')\n",
    "else :\n",
    "    print('You wrote something i have never seen before')"
   ]
  },
  {
   "cell_type": "code",
   "execution_count": 1,
   "metadata": {},
   "outputs": [
    {
     "data": {
      "text/plain": [
       "'/Users/dogukan/Desktop/INTRO_PYT_DJANGO'"
      ]
     },
     "execution_count": 1,
     "metadata": {},
     "output_type": "execute_result"
    }
   ],
   "source": [
    "pwd"
   ]
  },
  {
   "cell_type": "code",
   "execution_count": null,
   "metadata": {},
   "outputs": [],
   "source": []
  }
 ],
 "metadata": {
  "interpreter": {
   "hash": "98590ff4fe04c8543246b2a01debd3de3c5ca9b666f43f1fa87d5110c692004c"
  },
  "kernelspec": {
   "display_name": "Python 3.10.1 64-bit",
   "language": "python",
   "name": "python3"
  },
  "language_info": {
   "codemirror_mode": {
    "name": "ipython",
    "version": 3
   },
   "file_extension": ".py",
   "mimetype": "text/x-python",
   "name": "python",
   "nbconvert_exporter": "python",
   "pygments_lexer": "ipython3",
   "version": "3.10.4"
  },
  "orig_nbformat": 4
 },
 "nbformat": 4,
 "nbformat_minor": 2
}

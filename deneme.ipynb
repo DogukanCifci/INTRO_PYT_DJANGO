{
 "cells": [
  {
   "cell_type": "code",
   "execution_count": 39,
   "metadata": {},
   "outputs": [
    {
     "name": "stdout",
     "output_type": "stream",
     "text": [
      "True (Uses both hand fingers) \n"
     ]
    }
   ],
   "source": [
    "word = input('Enter a word to check if that is a comfort word')\n",
    "counter_left = 0\n",
    "counter_right = 0\n",
    "for i in word :\n",
    "    if i in 'qazwsxedcrfvtgb^12345' :\n",
    "        counter_left += 1 \n",
    "    elif i in 'yhnujmikolp67890ß´äö-.,#+*\\'' :\n",
    "        counter_right += 1\n",
    "\n",
    "if counter_left > 0 and counter_right > 0 :\n",
    "    print(True, '(Uses both hand fingers) ' )\n",
    "elif counter_left > 0 and counter_right == 0 :\n",
    "    print(False , '(Uses only left-hand fingers)')\n",
    "elif counter_right > 0 and counter_left == 0 :\n",
    "    print(False, '(uses only right-hand fingers)')\n",
    "else :\n",
    "    print('You wrote something i have never seen before')"
   ]
  },
  {
   "cell_type": "code",
   "execution_count": 1,
   "metadata": {},
   "outputs": [
    {
     "data": {
      "text/plain": [
       "'/Users/dogukan/Desktop/INTRO_PYT_DJANGO'"
      ]
     },
     "execution_count": 1,
     "metadata": {},
     "output_type": "execute_result"
    }
   ],
   "source": [
    "pwd"
   ]
  },
  {
   "cell_type": "code",
   "execution_count": 1,
   "metadata": {},
   "outputs": [
    {
     "name": "stdout",
     "output_type": "stream",
     "text": [
      "10 / 5 = 2.0\n"
     ]
    }
   ],
   "source": [
    "while True :\n",
    "    a = int(input('Enter the number : '))\n",
    "    b = int(input(\"Enter the number : \"))\n",
    "    division = a / b\n",
    "    print(a, '/', b, '=', division)\n",
    "    break"
   ]
  },
  {
   "cell_type": "code",
   "execution_count": 22,
   "metadata": {},
   "outputs": [
    {
     "name": "stdout",
     "output_type": "stream",
     "text": [
      "Orca is a kind of Dolphin.\n",
      "Blue Whale is the largest animal known on earth.\n",
      "Sharks are the sister group to the Rays.(batoids).\n",
      "The Tuna Fish can weigh up to 260 kg.\n",
      "Squid and Octupus are in the same class.\n",
      "-----\n",
      "Orca is a kind of Dolphin.\n",
      "Blue Whale is the largest animal known on earth.\n",
      "Sharks are the sister group to the Rays.(batoids).\n",
      "The Tuna Fish can weigh up to 260 kg.\n",
      "Squid and Octupus are in the same class.\n"
     ]
    }
   ],
   "source": [
    "with open(r'/Users/dogukan/Desktop/INTRO_PYT_DJANGO/python_solving methods++/open function/fishes.txt', 'r') as read_file :\n",
    "    with open(r'new_file.txt','w') as write_file :\n",
    "        for line in read_file :\n",
    "            write_file.write(line)\n",
    "\n",
    "with open('new_file.txt', 'r') as file :\n",
    "    for line in file.readlines() :\n",
    "        line = line.rstrip()\n",
    "        print(line)\n",
    "\n",
    "print('-'*5)\n",
    "fhand = open('new_file.txt', 'r') \n",
    "for line in fhand :\n",
    "    line = line.rstrip()\n",
    "    print(line)\n",
    "\n",
    "fhand.close()\n"
   ]
  },
  {
   "cell_type": "code",
   "execution_count": 27,
   "metadata": {},
   "outputs": [
    {
     "name": "stdout",
     "output_type": "stream",
     "text": [
      "dogukan\n",
      "mehmet\n",
      "\n"
     ]
    }
   ],
   "source": []
  },
  {
   "cell_type": "code",
   "execution_count": 32,
   "metadata": {},
   "outputs": [
    {
     "name": "stdout",
     "output_type": "stream",
     "text": [
      "/Users/dogukan/Desktop/INTRO_PYT_DJANGO/python_solving methods++/open function\n"
     ]
    }
   ],
   "source": [
    "cd open\\ function\n"
   ]
  },
  {
   "cell_type": "code",
   "execution_count": 33,
   "metadata": {},
   "outputs": [
    {
     "data": {
      "text/plain": [
       "'/Users/dogukan/Desktop/INTRO_PYT_DJANGO/python_solving methods++/open function'"
      ]
     },
     "execution_count": 33,
     "metadata": {},
     "output_type": "execute_result"
    }
   ],
   "source": [
    "pwd\n"
   ]
  },
  {
   "cell_type": "code",
   "execution_count": 36,
   "metadata": {},
   "outputs": [
    {
     "name": "stdout",
     "output_type": "stream",
     "text": [
      "/Users/dogukan/Desktop/INTRO_PYT_DJANGO\n"
     ]
    }
   ],
   "source": [
    "cd ..\n"
   ]
  },
  {
   "cell_type": "code",
   "execution_count": 34,
   "metadata": {},
   "outputs": [
    {
     "name": "stdout",
     "output_type": "stream",
     "text": [
      "dogukan\n",
      "dogukan\n",
      "dogukan\n",
      "dogukan\n",
      "dogukan\n",
      "mehmet\n",
      "mehmet\n",
      "mehmet\n",
      "mehmet\n",
      "mehmet\n",
      "ismet\n",
      "kelebek\n",
      "sami\n",
      "samed\n",
      "furkan\n",
      "ismail\n",
      "bu deneme\n",
      "deneme2\n",
      "deneme3\n",
      "\n"
     ]
    }
   ],
   "source": [
    "status = True\n",
    "while status :\n",
    "    names = input('Enter the names : ')\n",
    "    if names == 'done' :\n",
    "        status = False\n",
    "        break\n",
    "    with open('ad.txt', 'a') as write_file :\n",
    "        write_file.write(names + '\\n')\n",
    "\n",
    "with open('ad.txt', 'r') as read_file :\n",
    "    print(read_file.read())"
   ]
  }
 ],
 "metadata": {
  "interpreter": {
   "hash": "98590ff4fe04c8543246b2a01debd3de3c5ca9b666f43f1fa87d5110c692004c"
  },
  "kernelspec": {
   "display_name": "Python 3.10.1 64-bit",
   "language": "python",
   "name": "python3"
  },
  "language_info": {
   "codemirror_mode": {
    "name": "ipython",
    "version": 3
   },
   "file_extension": ".py",
   "mimetype": "text/x-python",
   "name": "python",
   "nbconvert_exporter": "python",
   "pygments_lexer": "ipython3",
   "version": "3.10.4"
  },
  "orig_nbformat": 4
 },
 "nbformat": 4,
 "nbformat_minor": 2
}

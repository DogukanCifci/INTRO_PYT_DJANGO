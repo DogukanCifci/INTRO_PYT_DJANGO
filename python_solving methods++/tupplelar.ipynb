{
 "cells": [
  {
   "cell_type": "code",
   "execution_count": 12,
   "metadata": {},
   "outputs": [
    {
     "name": "stdout",
     "output_type": "stream",
     "text": [
      "{'#BUNDAN': 1, 'SONRASI': 1, 'ISTEGE': 1, 'BAGLI.': 1, 'DICTE': 1, 'CEVIRIP': 1, 'SADECE': 1, 'VALUES': 1, 'YXA': 1, 'DA': 1, 'KEYS': 1, 'LERI': 1, 'DÖNDÜREBILIRIZ.': 1, 'word_list2': 1, '=': 2, 'dict(word_list2)': 1, 'print(word_list2)': 1, \"print('KEYS-YANI\": 1, 'TEKRAR': 2, 'SAYISI': 2, ':': 1, \"',\": 2, 'word_list2.keys())': 1, 'print()': 1, \"print('MAX\": 1, 'max(word_list2.keys()))': 1}\n",
      "\n",
      " [(2, 'TEKRAR'), (2, 'SAYISI'), (2, '='), (2, \"',\"), (1, 'word_list2.keys())'), (1, 'word_list2'), (1, 'print(word_list2)'), (1, 'print()'), (1, \"print('MAX\"), (1, \"print('KEYS-YANI\"), (1, 'max(word_list2.keys()))'), (1, 'dict(word_list2)'), (1, 'YXA'), (1, 'VALUES'), (1, 'SONRASI'), (1, 'SADECE'), (1, 'LERI'), (1, 'KEYS'), (1, 'ISTEGE'), (1, 'DÖNDÜREBILIRIZ.'), (1, 'DICTE'), (1, 'DA'), (1, 'CEVIRIP'), (1, 'BAGLI.'), (1, ':'), (1, '#BUNDAN')] \n",
      "\n",
      "En fazla tekrar eden ilk 3 kelime :  [(2, 'TEKRAR'), (2, 'SAYISI'), (2, '=')]\n"
     ]
    }
   ],
   "source": [
    "text = input (' ENTER THE TEXT : ')\n",
    "words = text.split()\n",
    "my_dict = dict()\n",
    "my_list1 = list()\n",
    "\n",
    "for i in words :\n",
    "    my_dict[i] = my_dict.get(i, 0) + 1\n",
    "print(my_dict)\n",
    "\n",
    "for k, v in my_dict.items() :\n",
    "    my_list1.append((v,k))\n",
    "\n",
    "my_list1 = sorted(my_list1, reverse = True)\n",
    "print('\\n', my_list1, '\\n')\n",
    "\n",
    "print('En fazla tekrar eden ilk 3 kelime : ', my_list1[:3])\n",
    "\n",
    "\n"
   ]
  },
  {
   "cell_type": "code",
   "execution_count": 18,
   "metadata": {},
   "outputs": [
    {
     "name": "stdout",
     "output_type": "stream",
     "text": [
      "Wed\n"
     ]
    }
   ],
   "source": [
    "days = ('Mon', 'Tue', 'Wed', 'Thu', 'Fri', 'Sat', 'Sun')\n",
    "print(days[2])"
   ]
  },
  {
   "cell_type": "code",
   "execution_count": null,
   "metadata": {},
   "outputs": [],
   "source": [
    "fibonacci = list()\n",
    "t = 0\n",
    "for i in range(1, 56) :\n",
    "    "
   ]
  }
 ],
 "metadata": {
  "interpreter": {
   "hash": "98590ff4fe04c8543246b2a01debd3de3c5ca9b666f43f1fa87d5110c692004c"
  },
  "kernelspec": {
   "display_name": "Python 3.10.1 64-bit",
   "language": "python",
   "name": "python3"
  },
  "language_info": {
   "codemirror_mode": {
    "name": "ipython",
    "version": 3
   },
   "file_extension": ".py",
   "mimetype": "text/x-python",
   "name": "python",
   "nbconvert_exporter": "python",
   "pygments_lexer": "ipython3",
   "version": "3.10.4"
  },
  "orig_nbformat": 4
 },
 "nbformat": 4,
 "nbformat_minor": 2
}

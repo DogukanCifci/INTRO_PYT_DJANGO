{
 "cells": [
  {
   "cell_type": "code",
   "execution_count": 2,
   "metadata": {},
   "outputs": [
    {
     "name": "stdout",
     "output_type": "stream",
     "text": [
      "<class '_io.TextIOWrapper'>\n"
     ]
    }
   ],
   "source": [
    "fhand = open('romeo.txt', 'r')\n",
    "print(type(fhand))"
   ]
  },
  {
   "cell_type": "code",
   "execution_count": 1,
   "metadata": {},
   "outputs": [
    {
     "data": {
      "text/plain": [
       "'/Users/dogukan/Desktop/INTRO_PYT_DJANGO/python_solving methods++/open function'"
      ]
     },
     "execution_count": 1,
     "metadata": {},
     "output_type": "execute_result"
    }
   ],
   "source": [
    "pwd\n"
   ]
  },
  {
   "cell_type": "code",
   "execution_count": 15,
   "metadata": {},
   "outputs": [
    {
     "name": "stdout",
     "output_type": "stream",
     "text": [
      "Orca is a kind of Dolphin.\n",
      "Blue Whale is the largest animal known on earth.\n",
      "Sharks are the sister group to the Rays.(batoids).\n",
      "The Tuna Fish can weigh up to 260 kg.\n",
      "Squid and Octupus are in the same class.\n"
     ]
    }
   ],
   "source": [
    "with open('fishes.txt', 'r') as file1 :\n",
    "    file = file1.read()\n",
    "    print(file)\n",
    "    file.close()\n",
    "#fhand = open('fishes.txt', 'r')\n",
    "#for line in fhand :\n",
    " #   line = line.rstrip()\n",
    "  #  print(line)"
   ]
  },
  {
   "cell_type": "code",
   "execution_count": 22,
   "metadata": {},
   "outputs": [
    {
     "name": "stdout",
     "output_type": "stream",
     "text": [
      "<_io.TextIOWrapper name='new_file.txt' mode='w' encoding='UTF-8'>\n"
     ]
    }
   ],
   "source": [
    "with open('fishes.txt', 'r') as read_file :\n",
    "    file = read_file.read()\n",
    "    \n",
    "    with open('new_file.txt', 'w') as write_file :\n",
    "       for line in file :\n",
    "           write_file.write(line)\n",
    "\n"
   ]
  },
  {
   "cell_type": "code",
   "execution_count": 24,
   "metadata": {},
   "outputs": [
    {
     "name": "stdout",
     "output_type": "stream",
     "text": [
      "oup to the Rays.(batoids).\n",
      "The Tuna Fish can weigh up to 260 kg.\n",
      "Squid and Octupus are in the same class.\n"
     ]
    }
   ],
   "source": [
    "file = open('fishes.txt','r')\n",
    "file.seek(100)           #Baslangic konumu olarak atamaya yarar.\n",
    "print(file.read())"
   ]
  },
  {
   "cell_type": "code",
   "execution_count": 42,
   "metadata": {},
   "outputs": [
    {
     "name": "stdout",
     "output_type": "stream",
     "text": [
      "I want to sing\n",
      "Like the birds sing,\n"
     ]
    }
   ],
   "source": [
    "fhand = open('rumi.txt', 'r')\n",
    "count = 0\n",
    "for line in fhand :\n",
    "    line = line.rstrip()\n",
    "    count += 1\n",
    "    if count<= 2 :\n",
    "        print(line)\n",
    "    else  :\n",
    "        break\n",
    "\n",
    "fhand.close()\n"
   ]
  },
  {
   "cell_type": "code",
   "execution_count": 48,
   "metadata": {},
   "outputs": [
    {
     "name": "stdout",
     "output_type": "stream",
     "text": [
      "I want to sin\n",
      "Cursor current position :  13\n",
      "Cursor current position :  0\n",
      "---\n",
      "I want to sing \n",
      "Like the birds sing,\n"
     ]
    }
   ],
   "source": [
    "try : \n",
    "    fhand = open('rumi.txt', 'r')\n",
    "except Exception as e :\n",
    "    print('======Error===== {0}'.format(e))\n",
    "\n",
    "print(fhand.read(13))\n",
    "print('Cursor current position : ', fhand.tell())     #cursor 13. karakterde\n",
    "print('Cursor current position : ', fhand.seek(0))    #bU KOMUTLA TEKRAR BASA ALDIK CURSORU\n",
    "print('-'*3)\n",
    "print(fhand.read(36))\n",
    "\n",
    "fhand.close()\n"
   ]
  },
  {
   "cell_type": "code",
   "execution_count": 49,
   "metadata": {},
   "outputs": [
    {
     "name": "stdout",
     "output_type": "stream",
     "text": [
      "I want to sing \n",
      "\n",
      "Like the birds sing,\n",
      "\n",
      "Not worrying about\n",
      "\n"
     ]
    }
   ],
   "source": [
    "fhand = open('rumi.txt', 'r')\n",
    "\n",
    "print(fhand.readline())    #1. satiri okur\n",
    "print(fhand.readline())     #2. satiri okur\n",
    "print(fhand.readline())     #3. satiri okur"
   ]
  },
  {
   "cell_type": "code",
   "execution_count": 50,
   "metadata": {},
   "outputs": [
    {
     "name": "stdout",
     "output_type": "stream",
     "text": [
      "Orca is a kin\n",
      "d of Dolphin.\n",
      "\n",
      "Blue Whale is the largest an\n"
     ]
    }
   ],
   "source": [
    "fhand = open('fishes.txt', 'r')\n",
    "print(fhand.readline(13))\n",
    "print(fhand.readline(19))\n",
    "print(fhand.readline(28))"
   ]
  },
  {
   "cell_type": "code",
   "execution_count": 80,
   "metadata": {},
   "outputs": [
    {
     "name": "stdout",
     "output_type": "stream",
     "text": [
      "But soft what light through yonder window breaks\n",
      "\n",
      "It is the east and Juliet is the sun\n",
      "\n",
      "Arise fair sun and kill the envious moon\n",
      "\n",
      "Who is already sick and pale with grief\n",
      "Current Position :  169\n",
      "0\n",
      "-------------------------\n",
      "But soft what light through yonder window breaks\n",
      "\n",
      "It is the east and Juliet is the sun\n",
      "\n",
      "Arise fair sun and kill the envious moon\n",
      "\n",
      "Who is already sick and pale with grief\n",
      "Curser Current Position :  169\n",
      "cursor 0 konumuna geri gönderildi\n"
     ]
    }
   ],
   "source": [
    "with open('romeo.txt', 'r') as fhand :\n",
    "    print(fhand.read().rstrip())\n",
    "    print('Current Position : ', fhand.tell())\n",
    "    print(fhand.seek(0))\n",
    "\n",
    "    print('-----'*5)\n",
    "    for line in fhand.readlines() :\n",
    "        print(line.rstrip())\n",
    "\n",
    "    print('Curser Current Position : ', fhand.tell())\n",
    "    print('cursor', fhand.seek(0), 'konumuna geri gönderildi')\n",
    "    \n",
    "\n",
    "\n"
   ]
  },
  {
   "cell_type": "code",
   "execution_count": 91,
   "metadata": {},
   "outputs": [
    {
     "name": "stdout",
     "output_type": "stream",
     "text": [
      "dogukan\n",
      "dogukan\n",
      "dogukan\n",
      "dogukan\n",
      "dogukan\n",
      "\n"
     ]
    }
   ],
   "source": [
    "name = input('Enter your name please : ')\n",
    "\n",
    "with open('ad.txt', 'w') as file:\n",
    "    for i in range(5) :\n",
    "        file.write(name + '\\n')\n",
    "        \n",
    "        \n",
    "print(open('ad.txt', 'r' ).read())\n"
   ]
  },
  {
   "cell_type": "code",
   "execution_count": null,
   "metadata": {},
   "outputs": [],
   "source": []
  }
 ],
 "metadata": {
  "interpreter": {
   "hash": "98590ff4fe04c8543246b2a01debd3de3c5ca9b666f43f1fa87d5110c692004c"
  },
  "kernelspec": {
   "display_name": "Python 3.10.1 64-bit",
   "language": "python",
   "name": "python3"
  },
  "language_info": {
   "codemirror_mode": {
    "name": "ipython",
    "version": 3
   },
   "file_extension": ".py",
   "mimetype": "text/x-python",
   "name": "python",
   "nbconvert_exporter": "python",
   "pygments_lexer": "ipython3",
   "version": "3.10.4"
  },
  "orig_nbformat": 4
 },
 "nbformat": 4,
 "nbformat_minor": 2
}

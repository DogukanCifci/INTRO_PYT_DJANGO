{
 "cells": [
  {
   "cell_type": "code",
   "execution_count": 12,
   "metadata": {},
   "outputs": [
    {
     "name": "stdout",
     "output_type": "stream",
     "text": [
      "Banana\n",
      "Orange\n",
      "Apple\n",
      "Strawberry\n",
      "Cherry\n",
      "\n",
      "Local Position : 38\n",
      "-----\n",
      "Current Position : 0\n",
      "['Banana\\n', 'Orange\\n', 'Apple\\n', 'Strawberry\\n', 'Cherry\\n']\n"
     ]
    }
   ],
   "source": [
    "fruits = ['Banana', 'Orange', 'Apple', 'Strawberry', 'Cherry']\n",
    "with open('fruits.txt', 'w') as write_file :\n",
    "    for item in fruits :\n",
    "        write_file.write(item + '\\n')\n",
    "\n",
    "with open('fruits.txt', 'r') as read_file :\n",
    "    print(read_file.read())\n",
    "    print(f'Local Position : {read_file.tell()}')\n",
    "    print('-'*5)\n",
    "    read_file.seek(0)\n",
    "    print('Current Position : {}'.format(read_file.tell()))\n",
    "    print(read_file.readlines())"
   ]
  },
  {
   "cell_type": "code",
   "execution_count": 18,
   "metadata": {},
   "outputs": [
    {
     "name": "stdout",
     "output_type": "stream",
     "text": [
      "Jasmine\n",
      "Lily\n",
      "Tulip\n",
      "\n"
     ]
    }
   ],
   "source": [
    "flowers = ['Jasmine', 'Rose', 'Lily', 'Daisy', 'Tulip']\n",
    "tek = 0\n",
    "with open('flowers.txt', 'w') as write_file :   #ATLAYA ATLAYA YAZDIRDIK\n",
    "    for i in flowers :\n",
    "        if tek % 2 == 0 :\n",
    "            write_file.write(i + '\\n') \n",
    "        tek += 1\n",
    "with open('flowers.txt', 'r') as read_file :\n",
    "    print(read_file.read())"
   ]
  },
  {
   "cell_type": "code",
   "execution_count": 26,
   "metadata": {},
   "outputs": [
    {
     "name": "stdout",
     "output_type": "stream",
     "text": [
      "Banana\n",
      "Orange\n",
      "Apple\n",
      "Strawberry\n",
      "Cherry\n",
      "melonMelonMelon\n",
      "Patates\n",
      "\n"
     ]
    }
   ],
   "source": [
    "with open('fruits.txt', 'a') as append_file :\n",
    "    append_file.write('Patates\\n')          #Eger '\\n' koymazsam bir sonrak ekleyecegim sey ayni satira yazilir.\n",
    "\n",
    "with open('fruits.txt', 'r') as read_file :\n",
    "    print(read_file.read())"
   ]
  },
  {
   "cell_type": "code",
   "execution_count": 28,
   "metadata": {},
   "outputs": [
    {
     "name": "stdout",
     "output_type": "stream",
     "text": [
      "['Banana\\n', 'Orange\\n', 'Apple\\n', 'Strawberry\\n', 'Cherry\\n', 'melonMelonMelon\\n', 'Patates\\n']\n"
     ]
    }
   ],
   "source": [
    "with open('fruits.txt', 'r') as read_file :\n",
    "    print(read_file.readlines())"
   ]
  },
  {
   "cell_type": "markdown",
   "metadata": {},
   "source": [
    "### DER UNTERSCHIED ZWISCHEN WRITE() UND WRITELINES()"
   ]
  },
  {
   "cell_type": "code",
   "execution_count": 29,
   "metadata": {},
   "outputs": [
    {
     "name": "stdout",
     "output_type": "stream",
     "text": [
      "Banana\n",
      "Orange\n",
      "Apple\n",
      "Strawberry\n",
      "Cherry\n",
      "\n"
     ]
    }
   ],
   "source": [
    "fruit1 = ['Banana\\n', 'Orange\\n', 'Apple\\n', 'Strawberry\\n', 'Cherry\\n']\n",
    "\n",
    "with open('fruit_another.txt', 'w') as write_file :\n",
    "    write_file.writelines(fruit1)                   #For döngüsüne sokmadan writelines ile yazdirabiliriz.\n",
    "                                                    #readlines liste halini writelines olarak yazdirdik. Kolayca\n",
    "with open('fruit_another.txt', 'r') as read_file :\n",
    "    print(read_file.read())"
   ]
  },
  {
   "cell_type": "markdown",
   "metadata": {},
   "source": [
    "##### Bir dosyayi okuma amacli acip icindeki kaiytlari tek tek kaydedip baska dosyaya yazdirma"
   ]
  },
  {
   "cell_type": "code",
   "execution_count": 30,
   "metadata": {},
   "outputs": [
    {
     "name": "stdout",
     "output_type": "stream",
     "text": [
      "Banana\n",
      "Orange\n",
      "Apple\n",
      "Strawberry\n",
      "Cherry\n",
      "melonMelonMelon\n",
      "Patates\n",
      "\n"
     ]
    }
   ],
   "source": [
    "with open('fruits.txt', 'r') as read_file :\n",
    "    with open('my_fruits.txt', 'w') as write_file :\n",
    "        for item in read_file :\n",
    "            write_file.write(item)\n",
    "\n",
    "with open('my_fruits.txt', 'r') as read_file :\n",
    "    print(read_file.read())"
   ]
  },
  {
   "cell_type": "code",
   "execution_count": 31,
   "metadata": {},
   "outputs": [
    {
     "name": "stdout",
     "output_type": "stream",
     "text": [
      "Banana\n",
      "Orange\n",
      "Apple\n",
      "Strawberry\n",
      "Cherry\n",
      "melonMelonMelon\n",
      "Patates\n",
      "\n"
     ]
    }
   ],
   "source": [
    "with open('my_fruits1.txt', 'w') as write_file :\n",
    "    with open('my_fruits.txt', 'r') as read_file :\n",
    "        for item in read_file :\n",
    "            write_file.write(item)\n",
    "\n",
    "with open('my_fruits1.txt', 'r') as read_file :\n",
    "    print(read_file.read())"
   ]
  },
  {
   "cell_type": "markdown",
   "metadata": {},
   "source": [
    "### * EXAMPLE 2\n",
    "###### SÖZLÜK YAPISINDAKI BIR VERIYI DOSYAYA YAZDIRMA"
   ]
  },
  {
   "cell_type": "code",
   "execution_count": 34,
   "metadata": {},
   "outputs": [
    {
     "name": "stdout",
     "output_type": "stream",
     "text": [
      "Key : 1 | Value :  first\n",
      "Key : 2 | Value : second\n",
      "Key : 3 | Value : third\n",
      "Key : 4 | Value : fourth\n",
      "\n"
     ]
    }
   ],
   "source": [
    "sözlük = {1 : ' first', 2 : 'second', 3 : 'third', 4 : 'fourth'}\n",
    "\n",
    "with open('sözlük.txt', 'w') as write_file :\n",
    "    for k, v in sözlük.items() :\n",
    "        write_file.write('Key : {} | '.format(k) + 'Value : {}'.format(v)+ '\\n')\n",
    "\n",
    "with open('sözlük.txt', 'r') as read_file :\n",
    "    print(read_file.read())"
   ]
  }
 ],
 "metadata": {
  "interpreter": {
   "hash": "98590ff4fe04c8543246b2a01debd3de3c5ca9b666f43f1fa87d5110c692004c"
  },
  "kernelspec": {
   "display_name": "Python 3.10.1 64-bit",
   "language": "python",
   "name": "python3"
  },
  "language_info": {
   "codemirror_mode": {
    "name": "ipython",
    "version": 3
   },
   "file_extension": ".py",
   "mimetype": "text/x-python",
   "name": "python",
   "nbconvert_exporter": "python",
   "pygments_lexer": "ipython3",
   "version": "3.10.4"
  },
  "orig_nbformat": 4
 },
 "nbformat": 4,
 "nbformat_minor": 2
}

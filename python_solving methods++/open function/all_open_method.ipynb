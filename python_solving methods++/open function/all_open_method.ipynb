{
 "cells": [
  {
   "cell_type": "code",
   "execution_count": 1,
   "metadata": {},
   "outputs": [
    {
     "name": "stdout",
     "output_type": "stream",
     "text": [
      "From stephen.marquard@uct.ac.za Sat Jan  5 09:14:16 2008\n",
      "\n",
      "Return-Path: <postmaster@collab.sakaiproject.org>\n",
      "\n",
      "['From stephen.marquard@uct.ac.za Sat Jan  5 09:14:16 2008\\n', 'Return-Path: <postmaster@collab.sakaiproject.org>\\n', 'Received: from murder (mail.umich.edu [141.211.14.90])\\n']\n",
      "[]\n",
      "[]\n"
     ]
    }
   ],
   "source": [
    "from isort import file\n",
    "\n",
    "#1. Method\n",
    "with open(\"/Users/dogukan/Desktop/INTRO_PYT_DJANGO/python_solving methods++/mbox-short.txt\", \"r\") as File1 :\n",
    "    file_stuff = File1.readlines()\n",
    "\n",
    "    #print(file_stuff)\n",
    "\n",
    "    print(file_stuff[0]) #-------> Ilk satir anlamina gelir. Ciktiya bakarsak sadece ilk satiri almistir\n",
    "    print(file_stuff[1]) #-------> 2. satir anlamina gelir.\n",
    "\n",
    "    print(file_stuff[:3]) #------->listelemis bir sekilde bize ilk 3 satiri vericek. Ciktiya bak kesin \n",
    "\n",
    "\n",
    "    #Eger bu sekilde yazarsak ;\n",
    "    file_stuff1 = File1.readlines(16) #--------> Ilk 16 karakteri alir.\n",
    "\n",
    "    print(file_stuff1)\n",
    "\n",
    "    file_stuff1 = File1.readlines(5)\n",
    "\n",
    "    print(file_stuff1)  # --------> Ilk 16 karakterden sonra gelen 5 karakteri alir. En basa dönmez\n",
    "\n",
    "\n"
   ]
  },
  {
   "cell_type": "code",
   "execution_count": 1,
   "metadata": {},
   "outputs": [
    {
     "name": "stdout",
     "output_type": "stream",
     "text": [
      "['But soft what light through yonder window breaks\\n', 'It is the east and Juliet is the sun\\n', 'Arise fair sun and kill the envious moon\\n', 'Who is already sick and pale with grief']\n",
      "\n"
     ]
    }
   ],
   "source": [
    "with open(\"/Users/dogukan/Desktop/INTRO_PYT_DJANGO/python_solving methods++/romeo.txt\", \"r\") as File3:\n",
    "     fhand = File3.readlines()\n",
    "     print(fhand)\n"
   ]
  },
  {
   "cell_type": "code",
   "execution_count": 4,
   "metadata": {},
   "outputs": [
    {
     "name": "stdout",
     "output_type": "stream",
     "text": [
      "But soft what light through yonder window breaks\n",
      "\n",
      "It is the east and Juliet is the sun\n",
      "\n",
      "Arise fair sun and kill the envious moon\n",
      "\n",
      "Who is already sick and pale with grief\n"
     ]
    }
   ],
   "source": [
    "#Üstteki kodu bu sekilde yapabilirdim. Cikti görüntüsünü degistirmek icin\n",
    "\n",
    "fhand1 = open(\"/Users/dogukan/Desktop/INTRO_PYT_DJANGO/python_solving methods++/romeo.txt\", \"r\")\n",
    "\n",
    "for lines in fhand1 :\n",
    "    print(lines)"
   ]
  },
  {
   "cell_type": "markdown",
   "metadata": {},
   "source": [
    "######   WRITE    #######"
   ]
  },
  {
   "cell_type": "code",
   "execution_count": 2,
   "metadata": {},
   "outputs": [
    {
     "name": "stdout",
     "output_type": "stream",
     "text": [
      "14\n"
     ]
    }
   ],
   "source": [
    "with open(\"/Users/dogukan/Desktop/INTRO_PYT_DJANGO/python_solving methods++/romeo.txt\", \"w\") as File4 :\n",
    "    fhand4 = File4.write(\"This is line A\")\n",
    "\n",
    "    print(fhand4)           #TEXTI KOMPLE DEGISTIRDI SUAN \n",
    "\n",
    "    #SADECE This is line A yaziyor romeo.txt icinde\n",
    "    "
   ]
  },
  {
   "cell_type": "code",
   "execution_count": 3,
   "metadata": {},
   "outputs": [],
   "source": [
    "#Geri ekliyoruz\n",
    "\n",
    "with open(\"/Users/dogukan/Desktop/INTRO_PYT_DJANGO/python_solving methods++/romeo.txt\", \"w\") as File5 :\n",
    "    fhand5 = File5.write(\"\"\"But soft what light through yonder window breaks\n",
    "\n",
    "It is the east and Juliet is the sun\n",
    "\n",
    "Arise fair sun and kill the envious moon\n",
    "\n",
    "Who is already sick and pale with grief\"\"\")"
   ]
  },
  {
   "cell_type": "code",
   "execution_count": 5,
   "metadata": {},
   "outputs": [],
   "source": [
    "Lines = [\"This is Line A \\n\", \"This is Line B\\n\",\"This is Line C\\n\"]\n",
    "\n",
    "with open(\"/Users/dogukan/Desktop/INTRO_PYT_DJANGO/python_solving methods++/deneme.txt\",\"w\") as File6 :\n",
    "    fhand6 = File6.write(str(Lines))        #Bu sekilde yapmamiz gerekir. O da gözüktügü gibi eklenir. \n",
    "\n",
    "    #Onun icin asagidaki for metodu ile yapacagiz\n",
    "\n"
   ]
  },
  {
   "cell_type": "code",
   "execution_count": 6,
   "metadata": {},
   "outputs": [],
   "source": [
    "Lines = [\"This is Line A \\n\", \"This is Line B\\n\",\"This is Line C\\n\"]\n",
    "\n",
    "#YENI BIR OPEN ILE BASLADIGIMIKZ ICIN ÜSTTE YAPTIGIMIZ SEY SILINECEK. Sadece burda eklediklerimiz deneme textinin icinde olacak\n",
    "with open(\"/Users/dogukan/Desktop/INTRO_PYT_DJANGO/python_solving methods++/deneme.txt\",\"w\") as File6 :\n",
    "    for line in Lines :\n",
    "        File6.write(line)       "
   ]
  },
  {
   "cell_type": "code",
   "execution_count": 17,
   "metadata": {},
   "outputs": [
    {
     "name": "stdout",
     "output_type": "stream",
     "text": [
      "But soft what light through yonder window breaks\n",
      "\n",
      "\n",
      "\n",
      "It is the east and Juliet is the sun\n",
      "\n",
      "\n",
      "\n",
      "Arise fair sun and kill the envious moon\n",
      "\n",
      "\n",
      "\n",
      "Who is already sick and pale with grief\n"
     ]
    }
   ],
   "source": [
    "##Bir dosyayi baska bir bos dosyaya kopyalamak icin bu yöntemi kullanabilirz.#\n",
    "\n",
    "with open(\"/Users/dogukan/Desktop/INTRO_PYT_DJANGO/python_solving methods++/romeo.txt\", \"r\") as readfile :\n",
    "    with open(\"/Users/dogukan/Desktop/INTRO_PYT_DJANGO/python_solving methods++/deneme1.txt\", \"w\") as writefile :\n",
    "        for lines in readfile :\n",
    "            writefile.write(lines)\n",
    "\n",
    "fhand = open(\"/Users/dogukan/Desktop/INTRO_PYT_DJANGO/python_solving methods++/deneme1.txt\", \"r\")   # En son göstermek icin bu kodu yazdik\n",
    "\n",
    "for line in fhand :\n",
    "    print(line)"
   ]
  },
  {
   "cell_type": "code",
   "execution_count": 18,
   "metadata": {},
   "outputs": [
    {
     "name": "stdout",
     "output_type": "stream",
     "text": [
      "Initial Location: 169\n",
      "Read nothing\n",
      "\n",
      "New Location : 0\n",
      "But soft what light through yonder window breaks\n",
      "\n",
      "It is the east and Juliet is the sun\n",
      "\n",
      "Arise fair sun and kill the envious moon\n",
      "\n",
      "Who is already sick and pale with grief\n",
      "Location after read: 169\n"
     ]
    }
   ],
   "source": [
    "with open(\"/Users/dogukan/Desktop/INTRO_PYT_DJANGO/python_solving methods++/deneme1.txt\", 'a+') as testwritefile:\n",
    "    print(\"Initial Location: {}\".format(testwritefile.tell()))  #tell() bize kac byte oldugunu söyler\n",
    "    \n",
    "    data = testwritefile.read()\n",
    "    if (not data):  #empty strings return false in python\n",
    "            print('Read nothing') \n",
    "    else: \n",
    "            print(testwritefile.read())\n",
    "            \n",
    "    testwritefile.seek(0,0) # move 0 bytes from beginning.\n",
    "    \n",
    "    print(\"\\nNew Location : {}\".format(testwritefile.tell())) \n",
    "    data = testwritefile.read()\n",
    "    if (not data): \n",
    "            print('Read nothing') \n",
    "    else: \n",
    "            print(data)\n",
    "    \n",
    "    print(\"Location after read: {}\".format(testwritefile.tell()) )"
   ]
  },
  {
   "cell_type": "code",
   "execution_count": 19,
   "metadata": {},
   "outputs": [
    {
     "name": "stdout",
     "output_type": "stream",
     "text": [
      "Line 1\n",
      "Line 2\n",
      "Line 3\n",
      "finished\n",
      "nder window breaks\n",
      "\n",
      "It is the east and Juliet is the sun\n",
      "\n",
      "Arise fair sun and kill the envious moon\n",
      "\n",
      "Who is already sick and pale with grief\n"
     ]
    }
   ],
   "source": [
    "with open(\"/Users/dogukan/Desktop/INTRO_PYT_DJANGO/python_solving methods++/deneme1.txt\", 'r+') as testwritefile:\n",
    "    data = testwritefile.readlines()\n",
    "    testwritefile.seek(0,0) #write at beginning of file\n",
    "   \n",
    "    testwritefile.write(\"Line 1\" + \"\\n\")\n",
    "    testwritefile.write(\"Line 2\" + \"\\n\")\n",
    "    testwritefile.write(\"Line 3\" + \"\\n\")\n",
    "    testwritefile.write(\"finished\\n\")\n",
    "    #Uncomment the line below\n",
    "    #testwritefile.truncate()\n",
    "    testwritefile.seek(0,0)\n",
    "    print(testwritefile.read())"
   ]
  }
 ],
 "metadata": {
  "interpreter": {
   "hash": "98590ff4fe04c8543246b2a01debd3de3c5ca9b666f43f1fa87d5110c692004c"
  },
  "kernelspec": {
   "display_name": "Python 3.10.1 64-bit",
   "language": "python",
   "name": "python3"
  },
  "language_info": {
   "codemirror_mode": {
    "name": "ipython",
    "version": 3
   },
   "file_extension": ".py",
   "mimetype": "text/x-python",
   "name": "python",
   "nbconvert_exporter": "python",
   "pygments_lexer": "ipython3",
   "version": "3.10.4"
  },
  "orig_nbformat": 4
 },
 "nbformat": 4,
 "nbformat_minor": 2
}

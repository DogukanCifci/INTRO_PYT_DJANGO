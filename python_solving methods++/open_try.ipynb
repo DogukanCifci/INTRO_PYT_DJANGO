{
 "cells": [
  {
   "cell_type": "code",
   "execution_count": 6,
   "metadata": {},
   "outputs": [
    {
     "name": "stdout",
     "output_type": "stream",
     "text": [
      "MERHABA BEN DOGUKAN.\n",
      "\n",
      "ISTANBULDAN ALMANYAYA BU TARIHTE GELDIM\n",
      "\n",
      "SUAN ALMANYADA YASIYORUM\n",
      "\n",
      "YASIM 26\n",
      "\n"
     ]
    }
   ],
   "source": [
    "dosya = open(\"romeo.txt\",\"r\")\n",
    "\n",
    "for line in dosya :\n",
    "    print(line)"
   ]
  },
  {
   "cell_type": "code",
   "execution_count": 4,
   "metadata": {},
   "outputs": [
    {
     "name": "stdout",
     "output_type": "stream",
     "text": [
      "0\n",
      "\n"
     ]
    }
   ],
   "source": [
    "dosya = open(\"/Users/dogukan/Desktop/python_kendi_calisma/python_Denemeler/romeo.txt\", 'r')\n",
    "inp = dosya.read()      #!!!!TÜM SATIRLARI YAN YANA KOYAR.\\n bir karakter olarak alir.\n",
    "print(len(inp))\n",
    "print(inp[:50])            #BURDA DA TEK SATIRDAYKEN DILIMLEME ILE ISTEDIGIMIZE KADAR ALABILIRZ\n"
   ]
  },
  {
   "cell_type": "code",
   "execution_count": 9,
   "metadata": {},
   "outputs": [
    {
     "name": "stdout",
     "output_type": "stream",
     "text": [
      "1\n",
      "1\n",
      "1\n",
      "1\n",
      "From Paris\n"
     ]
    }
   ],
   "source": [
    "dosya = open(\"romeo.txt\",\"r\")\n",
    "\n",
    "for line in dosya :\n",
    "    if line.startswith('From ') :\n",
    "        print(line)\n",
    "    else :\n",
    "        print(1)"
   ]
  },
  {
   "cell_type": "code",
   "execution_count": 10,
   "metadata": {},
   "outputs": [
    {
     "name": "stdout",
     "output_type": "stream",
     "text": [
      "MERHABA BEN DOGUKAN.\n"
     ]
    }
   ],
   "source": [
    "dosya = open(\"romeo.txt\", \"r\")\n",
    "\n",
    "for line in dosya :\n",
    "    line = line.rstrip() #sagdaki bosluklari atmak icin\n",
    "\n",
    "    if not \"DOGUKAN\" in line :          # Eger DOGUKAN satirda yoksa o satiri yazdirma\n",
    "        continue                        #LOOPSUN EN BASINA GERI GIRT VE BIR SONRAKI SATIRI DENE\n",
    "    print(line)"
   ]
  },
  {
   "cell_type": "code",
   "execution_count": 57,
   "metadata": {},
   "outputs": [
    {
     "name": "stdout",
     "output_type": "stream",
     "text": [
      "['Arise', 'But', 'It', 'Juliet', 'Who', 'already', 'and', 'breaks', 'east', 'envious', 'fair', 'grief', 'is', 'kill', 'light', 'moon', 'pale', 'sick', 'soft', 'sun', 'the', 'through', 'what', 'window', 'with', 'yonder']\n"
     ]
    }
   ],
   "source": [
    "fhand= open(\"romeo.txt\", \"r\")\n",
    "my_list = list()\n",
    "for line in fhand :\n",
    "    for word in line.split() :\n",
    "        if not word in  my_list:\n",
    "            my_list.append(word)\n",
    "my_list.sort()\n",
    "print(my_list)\n",
    "      "
   ]
  },
  {
   "cell_type": "code",
   "execution_count": 31,
   "metadata": {},
   "outputs": [
    {
     "name": "stdout",
     "output_type": "stream",
     "text": [
      "Average spam confidence: 0.7507185185185187\n"
     ]
    }
   ],
   "source": [
    "# Use the file name mbox-short.txt as the file name\n",
    "total = 0\n",
    "counter = 0\n",
    "fh = open(\"mbox-short.txt\",\"r\")\n",
    "for line in fh:\n",
    "    line = line.rstrip()\n",
    "    if not line.startswith(\"X-DSPAM-Confidence:\"):\n",
    "        continue\n",
    "    counter += 1\n",
    "    total = total + float(line[len(\"X-DSPAM-Confidence:\"):])\n",
    "print(\"Average spam confidence:\", total/counter)\n"
   ]
  },
  {
   "cell_type": "code",
   "execution_count": null,
   "metadata": {},
   "outputs": [],
   "source": [
    "fname = input(\"Enter file name: \")\n",
    "if len(fname) < 1:\n",
    "    fname = \"mbox-short.txt\"\n",
    "\n",
    "fh = open(fname)\n",
    "count = 0\n",
    "\n",
    "for line in fh :\n",
    "    line = line.rstrip()\n",
    "    if not line.startswith(\"From \") :\n",
    "        continue\n",
    "    count += 1\n",
    "    word = line.split()\n",
    "\tprint(word[1])\n",
    "print(\"There were\", count, \"lines in the file with From as the first word\")\n",
    "\n"
   ]
  },
  {
   "cell_type": "code",
   "execution_count": null,
   "metadata": {},
   "outputs": [],
   "source": [
    "\n",
    "fname = input(\"Enter file name: \")\n",
    "if len(fname) < 1 : fname = \"mbox-short.txt\"\n",
    "fhand = open(fname)\n",
    "count = 0\n",
    "for line in fhand:\n",
    "    line.rstrip()\n",
    "    if line.startswith(\"From \"):\n",
    "        words = line.split()\n",
    "        print(words[1])\n",
    "        count += 1\n",
    "print(\"There were\",count, \"lines in the file with From as the first word\")"
   ]
  },
  {
   "cell_type": "code",
   "execution_count": 72,
   "metadata": {},
   "outputs": [
    {
     "name": "stdout",
     "output_type": "stream",
     "text": [
      "stephen.marquard@uct.ac.za\n",
      "louis@media.berkeley.edu\n",
      "zqian@umich.edu\n",
      "rjlowe@iupui.edu\n",
      "zqian@umich.edu\n",
      "rjlowe@iupui.edu\n",
      "cwen@iupui.edu\n",
      "cwen@iupui.edu\n",
      "gsilver@umich.edu\n",
      "gsilver@umich.edu\n",
      "zqian@umich.edu\n",
      "gsilver@umich.edu\n",
      "wagnermr@iupui.edu\n",
      "zqian@umich.edu\n",
      "antranig@caret.cam.ac.uk\n",
      "gopal.ramasammycook@gmail.com\n",
      "david.horwitz@uct.ac.za\n",
      "david.horwitz@uct.ac.za\n",
      "david.horwitz@uct.ac.za\n",
      "david.horwitz@uct.ac.za\n",
      "stephen.marquard@uct.ac.za\n",
      "louis@media.berkeley.edu\n",
      "louis@media.berkeley.edu\n",
      "ray@media.berkeley.edu\n",
      "cwen@iupui.edu\n",
      "cwen@iupui.edu\n",
      "cwen@iupui.edu\n",
      "There were 27 lines in the file with From as the first word\n"
     ]
    }
   ],
   "source": [
    "fhand = open(\"mbox-short.txt\", \"r\")\n",
    "count = 0\n",
    "for line in fhand :\n",
    "    line = line.rstrip()\n",
    "    if not line.startswith('From ') :\n",
    "        continue\n",
    "    count += 1\n",
    "    words = line.split()\n",
    "    print(words[1])  \n",
    "    \n",
    "print(\"There were\", count, \"lines in the file with From as the first word\")\n",
    "\n"
   ]
  }
 ],
 "metadata": {
  "interpreter": {
   "hash": "98590ff4fe04c8543246b2a01debd3de3c5ca9b666f43f1fa87d5110c692004c"
  },
  "kernelspec": {
   "display_name": "Python 3.10.1 64-bit",
   "language": "python",
   "name": "python3"
  },
  "language_info": {
   "codemirror_mode": {
    "name": "ipython",
    "version": 3
   },
   "file_extension": ".py",
   "mimetype": "text/x-python",
   "name": "python",
   "nbconvert_exporter": "python",
   "pygments_lexer": "ipython3",
   "version": "3.10.4"
  },
  "orig_nbformat": 4
 },
 "nbformat": 4,
 "nbformat_minor": 2
}

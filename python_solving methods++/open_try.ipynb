{
 "cells": [
  {
   "cell_type": "code",
   "execution_count": 6,
   "metadata": {},
   "outputs": [
    {
     "name": "stdout",
     "output_type": "stream",
     "text": [
      "MERHABA BEN DOGUKAN.\n",
      "\n",
      "ISTANBULDAN ALMANYAYA BU TARIHTE GELDIM\n",
      "\n",
      "SUAN ALMANYADA YASIYORUM\n",
      "\n",
      "YASIM 26\n",
      "\n"
     ]
    }
   ],
   "source": [
    "dosya = open(\"romeo.txt\",\"r\")\n",
    "\n",
    "for line in dosya :\n",
    "    print(line)"
   ]
  },
  {
   "cell_type": "code",
   "execution_count": 4,
   "metadata": {},
   "outputs": [
    {
     "name": "stdout",
     "output_type": "stream",
     "text": [
      "0\n",
      "\n"
     ]
    }
   ],
   "source": [
    "dosya = open(\"/Users/dogukan/Desktop/python_kendi_calisma/python_Denemeler/romeo.txt\", 'r')\n",
    "inp = dosya.read()      #!!!!TÜM SATIRLARI YAN YANA KOYAR.\\n bir karakter olarak alir.\n",
    "print(len(inp))\n",
    "print(inp[:50])            #BURDA DA TEK SATIRDAYKEN DILIMLEME ILE ISTEDIGIMIZE KADAR ALABILIRZ\n"
   ]
  },
  {
   "cell_type": "code",
   "execution_count": 9,
   "metadata": {},
   "outputs": [
    {
     "name": "stdout",
     "output_type": "stream",
     "text": [
      "1\n",
      "1\n",
      "1\n",
      "1\n",
      "From Paris\n"
     ]
    }
   ],
   "source": [
    "dosya = open(\"romeo.txt\",\"r\")\n",
    "\n",
    "for line in dosya :\n",
    "    if line.startswith('From ') :\n",
    "        print(line)\n",
    "    else :\n",
    "        print(1)"
   ]
  },
  {
   "cell_type": "code",
   "execution_count": 10,
   "metadata": {},
   "outputs": [
    {
     "name": "stdout",
     "output_type": "stream",
     "text": [
      "MERHABA BEN DOGUKAN.\n"
     ]
    }
   ],
   "source": [
    "dosya = open(\"romeo.txt\", \"r\")\n",
    "\n",
    "for line in dosya :\n",
    "    line = line.rstrip() #sagdaki bosluklari atmak icin\n",
    "\n",
    "    if not \"DOGUKAN\" in line :          # Eger DOGUKAN satirda yoksa o satiri yazdirma\n",
    "        continue                        #LOOPSUN EN BASINA GERI GIRT VE BIR SONRAKI SATIRI DENE\n",
    "    print(line)"
   ]
  },
  {
   "cell_type": "code",
   "execution_count": 57,
   "metadata": {},
   "outputs": [
    {
     "name": "stdout",
     "output_type": "stream",
     "text": [
      "['Arise', 'But', 'It', 'Juliet', 'Who', 'already', 'and', 'breaks', 'east', 'envious', 'fair', 'grief', 'is', 'kill', 'light', 'moon', 'pale', 'sick', 'soft', 'sun', 'the', 'through', 'what', 'window', 'with', 'yonder']\n"
     ]
    }
   ],
   "source": [
    "fhand= open(\"romeo.txt\", \"r\")\n",
    "my_list = list()\n",
    "for line in fhand :\n",
    "    for word in line.split() :\n",
    "        if not word in  my_list:\n",
    "            my_list.append(word)\n",
    "my_list.sort()\n",
    "print(my_list)\n",
    "      "
   ]
  },
  {
   "cell_type": "code",
   "execution_count": 31,
   "metadata": {},
   "outputs": [
    {
     "name": "stdout",
     "output_type": "stream",
     "text": [
      "Average spam confidence: 0.7507185185185187\n"
     ]
    }
   ],
   "source": [
    "# Use the file name mbox-short.txt as the file name\n",
    "total = 0\n",
    "counter = 0\n",
    "fh = open(\"mbox-short.txt\",\"r\")\n",
    "for line in fh:\n",
    "    line = line.rstrip()\n",
    "    if not line.startswith(\"X-DSPAM-Confidence:\"):\n",
    "        continue\n",
    "    counter += 1\n",
    "    total = total + float(line[len(\"X-DSPAM-Confidence:\"):])\n",
    "print(\"Average spam confidence:\", total/counter)\n"
   ]
  },
  {
   "cell_type": "code",
   "execution_count": null,
   "metadata": {},
   "outputs": [],
   "source": [
    "fname = input(\"Enter file name: \")\n",
    "if len(fname) < 1:\n",
    "    fname = \"mbox-short.txt\"\n",
    "\n",
    "fh = open(fname)\n",
    "count = 0\n",
    "\n",
    "for line in fh :\n",
    "    line = line.rstrip()\n",
    "    if not line.startswith(\"From \") :\n",
    "        continue\n",
    "    count += 1\n",
    "    word = line.split()\n",
    "\tprint(word[1])\n",
    "print(\"There were\", count, \"lines in the file with From as the first word\")\n",
    "\n"
   ]
  },
  {
   "cell_type": "code",
   "execution_count": null,
   "metadata": {},
   "outputs": [],
   "source": [
    "\n",
    "fname = input(\"Enter file name: \")\n",
    "if len(fname) < 1 : fname = \"mbox-short.txt\"\n",
    "fhand = open(fname)\n",
    "count = 0\n",
    "for line in fhand:\n",
    "    line.rstrip()\n",
    "    if line.startswith(\"From \"):\n",
    "        words = line.split()\n",
    "        print(words[1])\n",
    "        count += 1\n",
    "print(\"There were\",count, \"lines in the file with From as the first word\")"
   ]
  },
  {
   "cell_type": "code",
   "execution_count": 72,
   "metadata": {},
   "outputs": [
    {
     "name": "stdout",
     "output_type": "stream",
     "text": [
      "stephen.marquard@uct.ac.za\n",
      "louis@media.berkeley.edu\n",
      "zqian@umich.edu\n",
      "rjlowe@iupui.edu\n",
      "zqian@umich.edu\n",
      "rjlowe@iupui.edu\n",
      "cwen@iupui.edu\n",
      "cwen@iupui.edu\n",
      "gsilver@umich.edu\n",
      "gsilver@umich.edu\n",
      "zqian@umich.edu\n",
      "gsilver@umich.edu\n",
      "wagnermr@iupui.edu\n",
      "zqian@umich.edu\n",
      "antranig@caret.cam.ac.uk\n",
      "gopal.ramasammycook@gmail.com\n",
      "david.horwitz@uct.ac.za\n",
      "david.horwitz@uct.ac.za\n",
      "david.horwitz@uct.ac.za\n",
      "david.horwitz@uct.ac.za\n",
      "stephen.marquard@uct.ac.za\n",
      "louis@media.berkeley.edu\n",
      "louis@media.berkeley.edu\n",
      "ray@media.berkeley.edu\n",
      "cwen@iupui.edu\n",
      "cwen@iupui.edu\n",
      "cwen@iupui.edu\n",
      "There were 27 lines in the file with From as the first word\n"
     ]
    }
   ],
   "source": [
    "fhand = open(\"mbox-short.txt\", \"r\")\n",
    "count = 0\n",
    "for line in fhand :\n",
    "    line = line.rstrip()\n",
    "    if not line.startswith('From ') :\n",
    "        continue\n",
    "    count += 1\n",
    "    words = line.split()\n",
    "    print(words[1])  \n",
    "    \n",
    "print(\"There were\", count, \"lines in the file with From as the first word\")\n",
    "\n"
   ]
  },
  {
   "cell_type": "code",
   "execution_count": 1,
   "metadata": {},
   "outputs": [
    {
     "name": "stdout",
     "output_type": "stream",
     "text": [
      "-----------------------------DICTIONARY FORMAT-------------------------\n",
      "{'stephen.marquard@uct.ac.za': 2, 'louis@media.berkeley.edu': 3, 'zqian@umich.edu': 4, 'rjlowe@iupui.edu': 2, 'cwen@iupui.edu': 5, 'gsilver@umich.edu': 3, 'wagnermr@iupui.edu': 1, 'antranig@caret.cam.ac.uk': 1, 'gopal.ramasammycook@gmail.com': 1, 'david.horwitz@uct.ac.za': 4, 'ray@media.berkeley.edu': 1}\n",
      "\n",
      "-----------------------------LIST FORMAT-------------------------\n",
      "[(2, 'stephen.marquard@uct.ac.za'), (3, 'louis@media.berkeley.edu'), (4, 'zqian@umich.edu'), (2, 'rjlowe@iupui.edu'), (5, 'cwen@iupui.edu'), (3, 'gsilver@umich.edu'), (1, 'wagnermr@iupui.edu'), (1, 'antranig@caret.cam.ac.uk'), (1, 'gopal.ramasammycook@gmail.com'), (4, 'david.horwitz@uct.ac.za'), (1, 'ray@media.berkeley.edu')]\n",
      "\n",
      "-------------------------AFTER LIST SORTED---------------------------\n",
      "[(5, 'cwen@iupui.edu'), (4, 'zqian@umich.edu'), (4, 'david.horwitz@uct.ac.za'), (3, 'louis@media.berkeley.edu'), (3, 'gsilver@umich.edu'), (2, 'stephen.marquard@uct.ac.za'), (2, 'rjlowe@iupui.edu'), (1, 'wagnermr@iupui.edu'), (1, 'ray@media.berkeley.edu'), (1, 'gopal.ramasammycook@gmail.com'), (1, 'antranig@caret.cam.ac.uk')]\n",
      "(5, 'cwen@iupui.edu')\n",
      "5 cwen@iupui.edu\n",
      "\n",
      "---------------------LAST DICT FORMAT------------------------\n",
      "{5: 'cwen@iupui.edu', 4: 'david.horwitz@uct.ac.za', 3: 'gsilver@umich.edu', 2: 'rjlowe@iupui.edu', 1: 'antranig@caret.cam.ac.uk'}\n"
     ]
    }
   ],
   "source": [
    "fhand = open(\"mbox-short.txt\", \"r\")\n",
    "my_dict = dict()\n",
    "my_list = list()\n",
    "my_dict_last = dict()\n",
    "for line in fhand :\n",
    "    if not line.startswith(\"From \") :\n",
    "        continue\n",
    "    line = line.split()\n",
    "    line = line[1]\n",
    "    my_dict[line] = my_dict.get(line, 0) +1 \n",
    "\n",
    "print(\"-----------------------------DICTIONARY FORMAT-------------------------\")\n",
    "print(my_dict) \n",
    "print()      \n",
    "for k, v in my_dict.items() :\n",
    "    my_list.append((v,k))\n",
    "print(\"-----------------------------LIST FORMAT-------------------------\")\n",
    "print(my_list) \n",
    "\n",
    "print()\n",
    "\n",
    "print('-------------------------AFTER LIST SORTED---------------------------')\n",
    "my_list = sorted(my_list, reverse = True)\n",
    "print(my_list)\n",
    "print(my_list[0])\n",
    "print(*my_list[0])\n",
    "print()\n",
    "print('---------------------LAST DICT FORMAT------------------------')\n",
    "my_dict_last = dict(my_list)\n",
    "print(my_dict_last)\n"
   ]
  },
  {
   "cell_type": "code",
   "execution_count": 6,
   "metadata": {},
   "outputs": [
    {
     "name": "stdout",
     "output_type": "stream",
     "text": [
      "{'stephen.marquard@uct.ac.za': 2, 'louis@media.berkeley.edu': 3, 'zqian@umich.edu': 4, 'rjlowe@iupui.edu': 2, 'cwen@iupui.edu': 5, 'gsilver@umich.edu': 3, 'wagnermr@iupui.edu': 1, 'antranig@caret.cam.ac.uk': 1, 'gopal.ramasammycook@gmail.com': 1, 'david.horwitz@uct.ac.za': 4, 'ray@media.berkeley.edu': 1}\n",
      "cwen@iupui.edu 5\n"
     ]
    }
   ],
   "source": [
    "fhand = open(\"mbox-short.txt\", \"r\")\n",
    "my_dict = dict()\n",
    "for line in fhand :\n",
    "    if not line.startswith('From ') :\n",
    "        continue\n",
    "    line = line.split()\n",
    "    words = line[1]\n",
    "    my_dict[words] = my_dict.get(words, 0) + 1\n",
    "print(my_dict)\n",
    "    \n",
    "largest = -1\n",
    "the_word = None\n",
    "for k, v in my_dict.items() :\n",
    "    if  v > largest :\n",
    "        largest = v\n",
    "        the_word = k\n",
    "\n",
    "print(the_word, largest)"
   ]
  },
  {
   "cell_type": "code",
   "execution_count": 46,
   "metadata": {},
   "outputs": [
    {
     "name": "stdout",
     "output_type": "stream",
     "text": [
      "{'09': 2, '18': 1, '16': 4, '15': 2, '14': 1, '11': 6, '10': 3, '07': 1, '06': 1, '04': 3, '19': 1, '17': 2}\n",
      "\n",
      "[('04', 3), ('06', 1), ('07', 1), ('09', 2), ('10', 3), ('11', 6), ('14', 1), ('15', 2), ('16', 4), ('17', 2), ('18', 1), ('19', 1)]\n",
      "04 3\n",
      "06 1\n",
      "07 1\n",
      "09 2\n",
      "10 3\n",
      "11 6\n",
      "14 1\n",
      "15 2\n",
      "16 4\n",
      "17 2\n",
      "18 1\n",
      "19 1\n"
     ]
    }
   ],
   "source": [
    "fhand = open('mbox-short.txt', \"r\") \n",
    "my_dict = dict()\n",
    "my_list = list()\n",
    "for line in fhand :\n",
    "    if not line.startswith('From ') :\n",
    "        continue\n",
    "    indis = line.index(':')\n",
    "    my_dict[line[indis-2:indis]] = my_dict.get(line[indis-2:indis], 0) + 1\n",
    "print(my_dict)\n",
    "print()\n",
    "for k, v in my_dict.items() :   \n",
    "   my_list.append((k, v))       #key önde value arakada olacak sekilde liste sarmalina aldik.\n",
    "\n",
    "\n",
    "my_list = sorted(my_list)           #keylere göre siraladik\n",
    "print(my_list)\n",
    "\n",
    "for key, value in my_list :             # önce key sonra value olacak sekilde cikti aldik\n",
    "    print(key, value )"
   ]
  }
 ],
 "metadata": {
  "interpreter": {
   "hash": "98590ff4fe04c8543246b2a01debd3de3c5ca9b666f43f1fa87d5110c692004c"
  },
  "kernelspec": {
   "display_name": "Python 3.10.1 64-bit",
   "language": "python",
   "name": "python3"
  },
  "language_info": {
   "codemirror_mode": {
    "name": "ipython",
    "version": 3
   },
   "file_extension": ".py",
   "mimetype": "text/x-python",
   "name": "python",
   "nbconvert_exporter": "python",
   "pygments_lexer": "ipython3",
   "version": "3.10.4"
  },
  "orig_nbformat": 4
 },
 "nbformat": 4,
 "nbformat_minor": 2
}

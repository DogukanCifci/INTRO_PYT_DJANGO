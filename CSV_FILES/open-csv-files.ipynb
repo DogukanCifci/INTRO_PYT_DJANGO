{
 "cells": [
  {
   "cell_type": "code",
   "execution_count": 1,
   "metadata": {},
   "outputs": [
    {
     "name": "stdout",
     "output_type": "stream",
     "text": [
      "no,fruit,amount\n",
      "1,Banana,4 lb\n",
      "2,Orange,5 lb\n",
      "3,Apple,2 lb\n",
      "4,Strawberry,6 lb\n",
      "5,Cherry,3 lb\n"
     ]
    }
   ],
   "source": [
    "with open('my_fruits.csv', 'r') as read_file :      #Bu sekilde icerik nasilsa o sekilde yazdirir.\n",
    "    print(read_file.read())"
   ]
  },
  {
   "cell_type": "code",
   "execution_count": 2,
   "metadata": {},
   "outputs": [
    {
     "name": "stdout",
     "output_type": "stream",
     "text": [
      "row_number, first_name, last_name, ages\n",
      "1, Dogukan, Cifci, 26\n",
      "2, Ismail, Karadag, 25\n",
      "3, Mirac, Is, 26\n",
      "4, Bedir, Kizil, 24\n",
      "5, Sefa, Cos, 25\n"
     ]
    }
   ],
   "source": [
    "with open('people.csv', 'r') as read_file :\n",
    "    print(read_file.read())\n"
   ]
  },
  {
   "cell_type": "code",
   "execution_count": 1,
   "metadata": {},
   "outputs": [
    {
     "name": "stdout",
     "output_type": "stream",
     "text": [
      "['row_number', ' first_name', ' last_name', ' ages']\n",
      "['1', ' Dogukan', ' Cifci', ' 26']\n",
      "['2', ' Ismail', ' Karadag', ' 25']\n",
      "['3', ' Mirac', ' Is', ' 26']\n",
      "['4', ' Bedir', ' Kizil', ' 24']\n",
      "['5', ' Sefa', ' Cos', ' 25']\n"
     ]
    }
   ],
   "source": [
    "import csv\n",
    "with open('people.csv','r') as read_file :\n",
    "    csv_file = csv.reader(read_file)\n",
    "    for row in csv_file :\n",
    "        print(row)\n"
   ]
  },
  {
   "cell_type": "code",
   "execution_count": 2,
   "metadata": {},
   "outputs": [
    {
     "name": "stdout",
     "output_type": "stream",
     "text": [
      "row_number, first_name, last_name, ages\n",
      "1, Dogukan, Cifci, 26\n",
      "2, Ismail, Karadag, 25\n",
      "3, Mirac, Is, 26\n",
      "4, Bedir, Kizil, 24\n",
      "5, Sefa, Cos, 25\n"
     ]
    }
   ],
   "source": [
    "import csv \n",
    "with open('people.csv', 'r') as read_file :     #default newline='' --> with open('people.csv', newline='')\n",
    "    for row in csv.reader(read_file) :          #default delimiter = ','  --->     csv.reader(read_file, delimiter=',')\n",
    "        print(','.join(row))                    #bu sekilde , lerden listeyi birlestirerek cikti alabiliriz"
   ]
  },
  {
   "cell_type": "code",
   "execution_count": null,
   "metadata": {},
   "outputs": [],
   "source": []
  }
 ],
 "metadata": {
  "interpreter": {
   "hash": "98590ff4fe04c8543246b2a01debd3de3c5ca9b666f43f1fa87d5110c692004c"
  },
  "kernelspec": {
   "display_name": "Python 3.10.1 64-bit",
   "language": "python",
   "name": "python3"
  },
  "language_info": {
   "codemirror_mode": {
    "name": "ipython",
    "version": 3
   },
   "file_extension": ".py",
   "mimetype": "text/x-python",
   "name": "python",
   "nbconvert_exporter": "python",
   "pygments_lexer": "ipython3",
   "version": "3.10.4"
  },
  "orig_nbformat": 4
 },
 "nbformat": 4,
 "nbformat_minor": 2
}
